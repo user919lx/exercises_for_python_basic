{
 "cells": [
  {
   "cell_type": "markdown",
   "metadata": {
    "collapsed": true
   },
   "source": [
    "# 函数式编程\n",
    "Python允许在定义一个函数时，将一个函数作为参数，这样定义的函数被称为高阶函数。"
   ]
  },
  {
   "cell_type": "code",
   "execution_count": 2,
   "metadata": {},
   "outputs": [
    {
     "name": "stdout",
     "output_type": "stream",
     "text": [
      "['Adam', 'Lisa', 'Bart']\n"
     ]
    }
   ],
   "source": [
    "# map\n",
    "# 接收一个函数f和一个迭代器i，将f作用到每一个元素上，搜集起来，返回一个新的迭代器。\n",
    "# 练习1：利用map()函数，把用户输入的不规范的英文名字，变为首字母大写，其他小写的规范名字。\n",
    "def normalize(name):\n",
    "    first = [name[0].upper()]\n",
    "    rest = [x.lower() for x in name[1:]]\n",
    "    return str.join(\"\", first + rest)\n",
    "# 测试:\n",
    "names = ['adam', 'LISA', 'barT']\n",
    "print(list(map(normalize, names)))\n",
    "# Out:['Adam', 'Lisa', 'Bart']"
   ]
  },
  {
   "cell_type": "code",
   "execution_count": 6,
   "metadata": {
    "collapsed": true
   },
   "outputs": [
    {
     "name": "stdout",
     "output_type": "stream",
     "text": [
      "3 * 5 * 7 * 9 = 945\n"
     ]
    }
   ],
   "source": [
    "# reduce\n",
    "# 把一个函数作用在一个序列上\n",
    "# 把结果继续和序列的下一个元素做累积计算\n",
    "# 练习2：编写一个prod()函数，可以接受一个list并利用reduce()求积：\n",
    "from functools import reduce\n",
    "\n",
    "\n",
    "def prod(mults):\n",
    "    return reduce(lambda x, y: x * y, mults)\n",
    "print('3 * 5 * 7 * 9 =', prod([3, 5, 7, 9]))\n",
    "# Out: 3 * 5 * 7 * 9 = 945"
   ]
  },
  {
   "cell_type": "code",
   "execution_count": 7,
   "metadata": {},
   "outputs": [
    {
     "name": "stdout",
     "output_type": "stream",
     "text": [
      "str2float('123.456') = 123.456\n"
     ]
    }
   ],
   "source": [
    "# 练习3 利用map和reduce编写一个str2float函数，把字符串'123.456'转换成浮点数123.456：\n",
    "def str2float(s):\n",
    "    def char2num(s):\n",
    "        return {'0': 0, '1': 1, '2': 2, '3': 3, '4': 4, '5': 5, '6': 6, '7': 7, '8': 8, '9': 9}[s]\n",
    "\n",
    "    n = s.index('.')\n",
    "    return reduce(lambda x, y: x * 10 + y, map(char2num, s[:n] + s[n + 1:])) / (10 ** n)\n",
    "\n",
    "\n",
    "print('str2float(\\'123.456\\') =', str2float('123.456'))"
   ]
  },
  {
   "cell_type": "code",
   "execution_count": 9,
   "metadata": {},
   "outputs": [
    {
     "name": "stdout",
     "output_type": "stream",
     "text": [
      "[1, 2, 3, 4, 5, 6, 7, 8, 9, 11, 22, 33, 44, 55, 66, 77, 88, 99, 101, 111, 121, 131, 141, 151, 161, 171, 181, 191, 202, 212, 222, 232, 242, 252, 262, 272, 282, 292, 303, 313, 323, 333, 343, 353, 363, 373, 383, 393, 404, 414, 424, 434, 444, 454, 464, 474, 484, 494, 505, 515, 525, 535, 545, 555, 565, 575, 585, 595, 606, 616, 626, 636, 646, 656, 666, 676, 686, 696, 707, 717, 727, 737, 747, 757, 767, 777, 787, 797, 808, 818, 828, 838, 848, 858, 868, 878, 888, 898, 909, 919, 929, 939, 949, 959, 969, 979, 989, 999]\n"
     ]
    }
   ],
   "source": [
    "# filter\n",
    "# 根据传入的值决定是否丢弃函数。\n",
    "# 练习4：利用filter()滤掉非回数\n",
    "def is_palindrome(n):\n",
    "    return str(n) == str(n)[::-1]\n",
    "\n",
    "\n",
    "print(list(filter(is_palindrome, range(1, 1000))))\n",
    "# Out: [1, 2, 3, ..., 949, 959, 969, 979, 989, 999]"
   ]
  },
  {
   "cell_type": "code",
   "execution_count": 10,
   "metadata": {},
   "outputs": [
    {
     "name": "stdout",
     "output_type": "stream",
     "text": [
      "begin call f\ncalling self\nend call f\nf result\n"
     ]
    }
   ],
   "source": [
    "# 装饰器 decorator\n",
    "# 在函数运行前后做追加行为\n",
    "# 把@log放到now()函数的定义处，相当于执行了语句：\n",
    "# now = log(now)\n",
    "# 如果是@log('execute')，则相当于now = log('execute')(now)\n",
    "\n",
    "\n",
    "# 练习5：编写一个decorator，能在函数调用的前后打印出'begin call'和'end call'的日志。\n",
    "def log(func):\n",
    "    def wrapper(*args, **kw):\n",
    "        print(\"begin call %s\" % func.__name__)\n",
    "        result = func(*args, **kw)\n",
    "        print(\"end call %s\" % func.__name__)\n",
    "        return result\n",
    "\n",
    "    return wrapper\n",
    "\n",
    "\n",
    "@log\n",
    "def f():\n",
    "    print(\"calling self\")\n",
    "    return \"f result\"\n",
    "\n",
    "\n",
    "print(f())"
   ]
  }
 ],
 "metadata": {
  "kernelspec": {
   "display_name": "Python 2",
   "language": "python",
   "name": "python2"
  },
  "language_info": {
   "codemirror_mode": {
    "name": "ipython",
    "version": 2.0
   },
   "file_extension": ".py",
   "mimetype": "text/x-python",
   "name": "python",
   "nbconvert_exporter": "python",
   "pygments_lexer": "ipython2",
   "version": "2.7.6"
  }
 },
 "nbformat": 4,
 "nbformat_minor": 0
}